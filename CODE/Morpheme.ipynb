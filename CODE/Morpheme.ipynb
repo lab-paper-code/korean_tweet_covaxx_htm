{
 "cells": [
  {
   "cell_type": "code",
   "execution_count": 2,
   "id": "fbbba952",
   "metadata": {},
   "outputs": [],
   "source": [
    "from tqdm import tqdm\n",
    "from sklearn.feature_extraction.text import CountVectorizer\n",
    "import pandas as pd\n",
    "from bertopic import BERTopic\n",
    "from konlpy.tag import Okt, Komoran, Kkma, Mecab\n",
    "import konlpy.jvm\n",
    "import numpy as np\n",
    "from umap import UMAP\n",
    "from hdbscan import HDBSCAN\n",
    "from gensim.models.coherencemodel import CoherenceModel\n",
    "import gensim.corpora as corpora\n",
    "import re\n",
    "import os\n",
    "import sentencepiece as spm\n",
    "import html\n",
    "import requests\n",
    "import json\n",
    "\n",
    "os.environ[\"TOKENIZERS_PARALLELISM\"] = \"false\""
   ]
  },
  {
   "cell_type": "code",
   "execution_count": 3,
   "id": "584da2dc",
   "metadata": {},
   "outputs": [],
   "source": [
    "def get_standard_dictionary(word):\n",
    "    url = \"https://stdict.korean.go.kr/api/search.do\"\n",
    "    params = {\n",
    "        \"key\": \"BCF1FAA297693D9DBF6299ACCBDD97FF\", # 국립국어원에서 API키를 발급받아서 입력하세요\n",
    "        \"q\": word,\n",
    "        \"req_type\": \"json\",\n",
    "    }\n",
    "    response = requests.get(url, params=params)\n",
    "    response.json(encoding = 'UTF-8')\n",
    "    return response"
   ]
  },
  {
   "cell_type": "code",
   "execution_count": 4,
   "id": "dd15bf53",
   "metadata": {},
   "outputs": [],
   "source": [
    "path_dir = './'\n",
    "data = pd.read_feather('./dataset.ftr')\n",
    "data['timestamp'] = data['date']\n",
    "#data = data[['timestamp','corrected_twit']]\n",
    "#data = data.drop_duplicates()\n"
   ]
  },
  {
   "cell_type": "code",
   "execution_count": 5,
   "id": "58d71fb6",
   "metadata": {},
   "outputs": [],
   "source": [
    "data = data.drop_duplicates(subset=['twit'])"
   ]
  },
  {
   "cell_type": "code",
   "execution_count": 6,
   "id": "d3b9a23f",
   "metadata": {},
   "outputs": [],
   "source": [
    "data = data.reset_index(drop=True)"
   ]
  },
  {
   "cell_type": "code",
   "execution_count": 7,
   "id": "bafef861",
   "metadata": {},
   "outputs": [],
   "source": [
    "timestamps = data.timestamp.to_list()\n",
    "docs = data.corrected_twit.to_list()\n",
    "time_list=[]\n",
    "for timestamp in timestamps:\n",
    "    time_list.append(timestamp[:7])"
   ]
  },
  {
   "cell_type": "code",
   "execution_count": 8,
   "id": "dba41351",
   "metadata": {},
   "outputs": [],
   "source": [
    "okt = Okt()"
   ]
  },
  {
   "cell_type": "code",
   "execution_count": 9,
   "id": "449f85c2",
   "metadata": {},
   "outputs": [
    {
     "name": "stderr",
     "output_type": "stream",
     "text": [
      "100%|██████████████████████████████████████████████████████████| 197515/197515 [12:34<00:00, 261.71it/s]\n"
     ]
    }
   ],
   "source": [
    "okt_list = []\n",
    "for d in tqdm(docs):\n",
    "    #d = re.sub('[^가-힣]', '', d)\n",
    "    hangul = re.compile('[^ 0-9가-힣+]')\n",
    "    sent = hangul.sub(' ', d)\n",
    "    sent = \" \".join(sent.split())\n",
    "    \n",
    "    temp = okt.pos(d, stem = True)\n",
    "    temp = [word[0] for word in temp if (word[1] =='Noun' or word[1] =='Adjective') ]\n",
    "    okt_list.append(temp)"
   ]
  },
  {
   "cell_type": "code",
   "execution_count": 10,
   "id": "1cb3718f",
   "metadata": {},
   "outputs": [],
   "source": [
    "data['okt'] = okt_list"
   ]
  },
  {
   "cell_type": "code",
   "execution_count": 11,
   "id": "342d3bce",
   "metadata": {},
   "outputs": [],
   "source": [
    "data = data[['twit_id','date','time','twit','refined_twit','corrected_twit','okt']]"
   ]
  },
  {
   "cell_type": "code",
   "execution_count": 12,
   "id": "4ce7c2a3",
   "metadata": {},
   "outputs": [],
   "source": [
    "vocab = set([])\n",
    "for i in range(len(data)):\n",
    "    vocab = vocab.union(set(data.okt[i]))\n",
    "vocab = list(vocab)"
   ]
  },
  {
   "cell_type": "code",
   "execution_count": 14,
   "id": "3b369086",
   "metadata": {},
   "outputs": [
    {
     "name": "stderr",
     "output_type": "stream",
     "text": [
      "100%|███████████████████████████████████████████████████████████| 33754/33754 [1:20:09<00:00,  7.02it/s]\n"
     ]
    }
   ],
   "source": [
    "new_stop_words = []\n",
    "for i in tqdm(range(len(vocab))):\n",
    "    try: \n",
    "        t = get_standard_dictionary(vocab[i])\n",
    "        key = 0\n",
    "        for temp in t.json().get('channel').get('item'):\n",
    "            if temp.get('pos') == '명사' or temp.get('pos') == '형용사':\n",
    "                key =1\n",
    "        if key==0 : new_stop_words.append(vocab[i])        \n",
    "    \n",
    "    except: \n",
    "        new_stop_words.append(vocab[i])"
   ]
  },
  {
   "cell_type": "code",
   "execution_count": 15,
   "id": "8eeb56d6",
   "metadata": {},
   "outputs": [],
   "source": [
    "user_dict_file = \"./RawDatasets/txt/user_dic.txt\"\n",
    "user_dict =  [line.strip() for line in open(user_dict_file, encoding=\"utf-8\").readlines()]\n"
   ]
  },
  {
   "cell_type": "code",
   "execution_count": 18,
   "id": "e01a3715",
   "metadata": {},
   "outputs": [],
   "source": [
    "f = open(\"./RawDatasets/txt/new_stopwords.txt\",'w')\n",
    "for word in new_stop_words:\n",
    "    if word not in user_dict:\n",
    "        f.write(word+\"\\n\")\n",
    "    "
   ]
  },
  {
   "cell_type": "code",
   "execution_count": 19,
   "id": "243c354e",
   "metadata": {},
   "outputs": [],
   "source": [
    "# stop words removal"
   ]
  },
  {
   "cell_type": "code",
   "execution_count": 20,
   "id": "a92ddd26",
   "metadata": {},
   "outputs": [],
   "source": [
    "stop_word_file = \"./RawDatasets/txt/new_stopwords.txt\"\n",
    "stop_word_file2 = \"./RawDatasets/txt/stopwords.txt\"\n",
    "stop_words1 =  [line.strip() for line in open(stop_word_file, encoding=\"utf-8\").readlines()]\n",
    "stop_words2 =  [line.strip() for line in open(stop_word_file2, encoding=\"utf-8\").readlines()]\n",
    "stop_words = stop_words1+stop_words2"
   ]
  },
  {
   "cell_type": "code",
   "execution_count": 21,
   "id": "7a8041d5",
   "metadata": {},
   "outputs": [],
   "source": [
    "for i in range(len(data)):\n",
    "    temp = data['okt'][i]\n",
    "    data['okt'][i] = [word for word in temp if (not word in stop_words and len(word) > 1)]\n",
    "\n",
    "index = []\n",
    "for i in range(len(data)):\n",
    "    if len(data.okt[i]) < 2:\n",
    "        index.append(i)\n",
    "data = data.drop(index).reset_index(drop=True)"
   ]
  },
  {
   "cell_type": "code",
   "execution_count": 24,
   "id": "1e022fb1",
   "metadata": {},
   "outputs": [
    {
     "data": {
      "text/html": [
       "<div>\n",
       "<style scoped>\n",
       "    .dataframe tbody tr th:only-of-type {\n",
       "        vertical-align: middle;\n",
       "    }\n",
       "\n",
       "    .dataframe tbody tr th {\n",
       "        vertical-align: top;\n",
       "    }\n",
       "\n",
       "    .dataframe thead th {\n",
       "        text-align: right;\n",
       "    }\n",
       "</style>\n",
       "<table border=\"1\" class=\"dataframe\">\n",
       "  <thead>\n",
       "    <tr style=\"text-align: right;\">\n",
       "      <th></th>\n",
       "      <th>twit_id</th>\n",
       "      <th>date</th>\n",
       "      <th>time</th>\n",
       "      <th>twit</th>\n",
       "      <th>refined_twit</th>\n",
       "      <th>corrected_twit</th>\n",
       "      <th>okt</th>\n",
       "    </tr>\n",
       "  </thead>\n",
       "  <tbody>\n",
       "    <tr>\n",
       "      <th>0</th>\n",
       "      <td>1553510754581487616</td>\n",
       "      <td>2022-07-30</td>\n",
       "      <td>22:40:01</td>\n",
       "      <td>백신 4차 노바백스로 맞음맞으면서 부작용 사례 물어보니아직 접수 된 건이 하나도 없...</td>\n",
       "      <td>백신 4차 노바백스로 맞음맞으면서 부작용 사례 물어보니아직 접수 된 건이 하나도 없...</td>\n",
       "      <td>백신 4차 노바백스로 맞으면 맞으면서 부작용 사례 물어보니 아직 접수된 건이 하나도...</td>\n",
       "      <td>[부작용, 사례, 접수, 부위, 통증, 확실하다, 부작용]</td>\n",
       "    </tr>\n",
       "    <tr>\n",
       "      <th>1</th>\n",
       "      <td>1553293555854061571</td>\n",
       "      <td>2022-07-30</td>\n",
       "      <td>08:16:57</td>\n",
       "      <td>노바백스 후기화이자 보다 안 아픔 근데 팔 아파서 잘 못 움직임 근데 이것도 케바케...</td>\n",
       "      <td>노바백스 후기화이자 보다 안 아픔 근데 팔 아파서 잘 못 움직임 근데 이것도 케바케...</td>\n",
       "      <td>노바백스 후기 화이자보다안 아픔 근데 팔 아파서 잘 못 움직임 근데 이것도 때에 따...</td>\n",
       "      <td>[아픔, 아프다, 움직임, 할머니, 엄마, 아프다]</td>\n",
       "    </tr>\n",
       "    <tr>\n",
       "      <th>2</th>\n",
       "      <td>1552540061635293184</td>\n",
       "      <td>2022-07-28</td>\n",
       "      <td>06:22:50</td>\n",
       "      <td>1,2차 화이자3차 노바백스생명의 위협을 느껴서 이제서야 3차 맞음근데 15분 있다...</td>\n",
       "      <td>12차 화이자3차 노바백스생명의 위협을 느껴서 이제서야 3차 맞음근데 15분 있다가...</td>\n",
       "      <td>12차 화이자 3차 노바백스 생명의 위협을 느껴서 이제야 3차 맞음 근데 15분 있...</td>\n",
       "      <td>[생명, 위협, 가라, 스스로]</td>\n",
       "    </tr>\n",
       "    <tr>\n",
       "      <th>3</th>\n",
       "      <td>1551897969049235461</td>\n",
       "      <td>2022-07-26</td>\n",
       "      <td>11:51:23</td>\n",
       "      <td>백신 3차접종 완료자만 입국후 격리면제 가능인정백신 2차 접종까지 지정 백신: 화이...</td>\n",
       "      <td>백신 3차접종 완료자만 입국후 격리면제 가능인정백신 2차 접종까지 지정 백신 화이자...</td>\n",
       "      <td>백신 3차 접종 완료자만 입국 후 격리 면제 가능 인정 백신 2차 접종까지 지정 백...</td>\n",
       "      <td>[완료, 자만, 입국, 격리, 면제, 가능, 인정, 지정, 지정, 일본, 확진, 완...</td>\n",
       "    </tr>\n",
       "    <tr>\n",
       "      <th>4</th>\n",
       "      <td>1551731672789315586</td>\n",
       "      <td>2022-07-26</td>\n",
       "      <td>00:50:35</td>\n",
       "      <td>@ahomoo1 1차 2차 바이러스벡터 백신3차 mRNA 백신.4차는 유전자 재조합...</td>\n",
       "      <td>1차 2차 바이러스벡터 백신3차 mrna 백신.4차는 유전자 재조합 백신인 노바백스...</td>\n",
       "      <td>1차 2차 바이러스벡터 백신 3차 mrna 백신. 4차는 유전자 재조합 백신인 노바...</td>\n",
       "      <td>[바이러스, 벡터, 유전자, 조합]</td>\n",
       "    </tr>\n",
       "    <tr>\n",
       "      <th>...</th>\n",
       "      <td>...</td>\n",
       "      <td>...</td>\n",
       "      <td>...</td>\n",
       "      <td>...</td>\n",
       "      <td>...</td>\n",
       "      <td>...</td>\n",
       "      <td>...</td>\n",
       "    </tr>\n",
       "    <tr>\n",
       "      <th>123036</th>\n",
       "      <td>1554031516342456320</td>\n",
       "      <td>2022-08-01</td>\n",
       "      <td>09:09:20</td>\n",
       "      <td>4차 노바백스 접종 감상 : 몹시 아픔맞은 직후에 제일 아픈거 같음..왜지.. 왜 ...</td>\n",
       "      <td>4차 노바백스 접종 감상 몹시 아픔맞은 직후에 제일 아픈거 같음..왜지.. 왜 이렇...</td>\n",
       "      <td>4차 노바백스 접종 감상 몹시 아픔 맞은 직후에 제일 아픈 거 같음…. 왜지.. 왜...</td>\n",
       "      <td>[감상, 아픔, 직후, 아프다, 아프다, 거지]</td>\n",
       "    </tr>\n",
       "    <tr>\n",
       "      <th>123037</th>\n",
       "      <td>1607586232871321600</td>\n",
       "      <td>2022-12-27</td>\n",
       "      <td>03:56:40</td>\n",
       "      <td>나 뭐냐... 격리해제 3개월 지낫는데 동절기 화이자 어쩌구 되는건가?</td>\n",
       "      <td>나 뭐냐... 격리해제 3개월 지낫는데 동절기 화이자 어쩌구 되는건가?</td>\n",
       "      <td>나 뭐냐... 격리해제 3개월 지났는데 동절기 화이자 어쩌고 되는 건가?</td>\n",
       "      <td>[격리, 해제, 동절기]</td>\n",
       "    </tr>\n",
       "    <tr>\n",
       "      <th>123038</th>\n",
       "      <td>1590878972480741378</td>\n",
       "      <td>2022-11-11</td>\n",
       "      <td>01:27:58</td>\n",
       "      <td>모더나 맞았다. 아예 오늘 외출을 하지 말라고 하시는데 음 오늘 성수동 그냥 가지말...</td>\n",
       "      <td>모더나 맞았다. 아예 오늘 외출을 하지 말라고 하시는데 음 오늘 성수동 그냥 가지말...</td>\n",
       "      <td>모더나 맞았다. 아예 오늘 외출을 하지 말라고 하시는데 음 오늘 성수동 그냥 가지 ...</td>\n",
       "      <td>[외출, 타이레놀, 월요일, 아침, 부지런하다]</td>\n",
       "    </tr>\n",
       "    <tr>\n",
       "      <th>123039</th>\n",
       "      <td>1555570004912787456</td>\n",
       "      <td>2022-08-05</td>\n",
       "      <td>15:02:44</td>\n",
       "      <td>더킹 관상 레알 준니 좋아하는영화들인데..더킹은 내 영화인생에 단연코1위 최애영화이...</td>\n",
       "      <td>더킹 관상 레알 준니 좋아하는영화들인데..더킹은 내 영화인생에 단연코1위 최애영화이...</td>\n",
       "      <td>더킹 관상 정말 준비 좋아하는영화들인데…. 더킹은 내 영화 인생에 단연코 1위 최애...</td>\n",
       "      <td>[더킹, 관상, 준비, 영화, 더킹, 영화, 인생, 단연, 최애, 영화, 관심, 계...</td>\n",
       "    </tr>\n",
       "    <tr>\n",
       "      <th>123040</th>\n",
       "      <td>1611170953106690049</td>\n",
       "      <td>2023-01-06</td>\n",
       "      <td>01:21:03</td>\n",
       "      <td>@diiidll 네!! 저는 모더나엿는데 화이자도 똑같다고 들었어요!! 음주 여부 ...</td>\n",
       "      <td>네!! 저는 모더나엿는데 화이자도 똑같다고 들었어요!! 음주 여부 안물어보셨으니가 ...</td>\n",
       "      <td>네!! 저는 모더나였는데 화이자도 똑같다고 들었어요!! 음주 여부 안 물어보셨으니까...</td>\n",
       "      <td>[똑같다, 음주, 괜찮다, 불안하다, 괜찮다, 잔여백신]</td>\n",
       "    </tr>\n",
       "  </tbody>\n",
       "</table>\n",
       "<p>123041 rows × 7 columns</p>\n",
       "</div>"
      ],
      "text/plain": [
       "                    twit_id        date      time  \\\n",
       "0       1553510754581487616  2022-07-30  22:40:01   \n",
       "1       1553293555854061571  2022-07-30  08:16:57   \n",
       "2       1552540061635293184  2022-07-28  06:22:50   \n",
       "3       1551897969049235461  2022-07-26  11:51:23   \n",
       "4       1551731672789315586  2022-07-26  00:50:35   \n",
       "...                     ...         ...       ...   \n",
       "123036  1554031516342456320  2022-08-01  09:09:20   \n",
       "123037  1607586232871321600  2022-12-27  03:56:40   \n",
       "123038  1590878972480741378  2022-11-11  01:27:58   \n",
       "123039  1555570004912787456  2022-08-05  15:02:44   \n",
       "123040  1611170953106690049  2023-01-06  01:21:03   \n",
       "\n",
       "                                                     twit  \\\n",
       "0       백신 4차 노바백스로 맞음맞으면서 부작용 사례 물어보니아직 접수 된 건이 하나도 없...   \n",
       "1       노바백스 후기화이자 보다 안 아픔 근데 팔 아파서 잘 못 움직임 근데 이것도 케바케...   \n",
       "2       1,2차 화이자3차 노바백스생명의 위협을 느껴서 이제서야 3차 맞음근데 15분 있다...   \n",
       "3       백신 3차접종 완료자만 입국후 격리면제 가능인정백신 2차 접종까지 지정 백신: 화이...   \n",
       "4       @ahomoo1 1차 2차 바이러스벡터 백신3차 mRNA 백신.4차는 유전자 재조합...   \n",
       "...                                                   ...   \n",
       "123036  4차 노바백스 접종 감상 : 몹시 아픔맞은 직후에 제일 아픈거 같음..왜지.. 왜 ...   \n",
       "123037            나 뭐냐... 격리해제 3개월 지낫는데 동절기 화이자 어쩌구 되는건가?   \n",
       "123038  모더나 맞았다. 아예 오늘 외출을 하지 말라고 하시는데 음 오늘 성수동 그냥 가지말...   \n",
       "123039  더킹 관상 레알 준니 좋아하는영화들인데..더킹은 내 영화인생에 단연코1위 최애영화이...   \n",
       "123040  @diiidll 네!! 저는 모더나엿는데 화이자도 똑같다고 들었어요!! 음주 여부 ...   \n",
       "\n",
       "                                             refined_twit  \\\n",
       "0       백신 4차 노바백스로 맞음맞으면서 부작용 사례 물어보니아직 접수 된 건이 하나도 없...   \n",
       "1       노바백스 후기화이자 보다 안 아픔 근데 팔 아파서 잘 못 움직임 근데 이것도 케바케...   \n",
       "2       12차 화이자3차 노바백스생명의 위협을 느껴서 이제서야 3차 맞음근데 15분 있다가...   \n",
       "3       백신 3차접종 완료자만 입국후 격리면제 가능인정백신 2차 접종까지 지정 백신 화이자...   \n",
       "4       1차 2차 바이러스벡터 백신3차 mrna 백신.4차는 유전자 재조합 백신인 노바백스...   \n",
       "...                                                   ...   \n",
       "123036  4차 노바백스 접종 감상 몹시 아픔맞은 직후에 제일 아픈거 같음..왜지.. 왜 이렇...   \n",
       "123037            나 뭐냐... 격리해제 3개월 지낫는데 동절기 화이자 어쩌구 되는건가?   \n",
       "123038  모더나 맞았다. 아예 오늘 외출을 하지 말라고 하시는데 음 오늘 성수동 그냥 가지말...   \n",
       "123039  더킹 관상 레알 준니 좋아하는영화들인데..더킹은 내 영화인생에 단연코1위 최애영화이...   \n",
       "123040  네!! 저는 모더나엿는데 화이자도 똑같다고 들었어요!! 음주 여부 안물어보셨으니가 ...   \n",
       "\n",
       "                                           corrected_twit  \\\n",
       "0       백신 4차 노바백스로 맞으면 맞으면서 부작용 사례 물어보니 아직 접수된 건이 하나도...   \n",
       "1       노바백스 후기 화이자보다안 아픔 근데 팔 아파서 잘 못 움직임 근데 이것도 때에 따...   \n",
       "2       12차 화이자 3차 노바백스 생명의 위협을 느껴서 이제야 3차 맞음 근데 15분 있...   \n",
       "3       백신 3차 접종 완료자만 입국 후 격리 면제 가능 인정 백신 2차 접종까지 지정 백...   \n",
       "4       1차 2차 바이러스벡터 백신 3차 mrna 백신. 4차는 유전자 재조합 백신인 노바...   \n",
       "...                                                   ...   \n",
       "123036  4차 노바백스 접종 감상 몹시 아픔 맞은 직후에 제일 아픈 거 같음…. 왜지.. 왜...   \n",
       "123037           나 뭐냐... 격리해제 3개월 지났는데 동절기 화이자 어쩌고 되는 건가?   \n",
       "123038  모더나 맞았다. 아예 오늘 외출을 하지 말라고 하시는데 음 오늘 성수동 그냥 가지 ...   \n",
       "123039  더킹 관상 정말 준비 좋아하는영화들인데…. 더킹은 내 영화 인생에 단연코 1위 최애...   \n",
       "123040  네!! 저는 모더나였는데 화이자도 똑같다고 들었어요!! 음주 여부 안 물어보셨으니까...   \n",
       "\n",
       "                                                      okt  \n",
       "0                        [부작용, 사례, 접수, 부위, 통증, 확실하다, 부작용]  \n",
       "1                            [아픔, 아프다, 움직임, 할머니, 엄마, 아프다]  \n",
       "2                                       [생명, 위협, 가라, 스스로]  \n",
       "3       [완료, 자만, 입국, 격리, 면제, 가능, 인정, 지정, 지정, 일본, 확진, 완...  \n",
       "4                                     [바이러스, 벡터, 유전자, 조합]  \n",
       "...                                                   ...  \n",
       "123036                         [감상, 아픔, 직후, 아프다, 아프다, 거지]  \n",
       "123037                                      [격리, 해제, 동절기]  \n",
       "123038                         [외출, 타이레놀, 월요일, 아침, 부지런하다]  \n",
       "123039  [더킹, 관상, 준비, 영화, 더킹, 영화, 인생, 단연, 최애, 영화, 관심, 계...  \n",
       "123040                    [똑같다, 음주, 괜찮다, 불안하다, 괜찮다, 잔여백신]  \n",
       "\n",
       "[123041 rows x 7 columns]"
      ]
     },
     "execution_count": 24,
     "metadata": {},
     "output_type": "execute_result"
    }
   ],
   "source": [
    "data"
   ]
  },
  {
   "cell_type": "code",
   "execution_count": 25,
   "id": "f4c027ca",
   "metadata": {},
   "outputs": [],
   "source": [
    "data.to_feather('./covid19.ftr')"
   ]
  },
  {
   "cell_type": "code",
   "execution_count": null,
   "id": "4b7997b2",
   "metadata": {},
   "outputs": [],
   "source": []
  }
 ],
 "metadata": {
  "kernelspec": {
   "display_name": "Python [conda env:harin]",
   "language": "python",
   "name": "conda-env-harin-py"
  },
  "language_info": {
   "codemirror_mode": {
    "name": "ipython",
    "version": 3
   },
   "file_extension": ".py",
   "mimetype": "text/x-python",
   "name": "python",
   "nbconvert_exporter": "python",
   "pygments_lexer": "ipython3",
   "version": "3.7.13"
  }
 },
 "nbformat": 4,
 "nbformat_minor": 5
}
