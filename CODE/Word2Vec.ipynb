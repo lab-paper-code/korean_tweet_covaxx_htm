{
 "cells": [
  {
   "cell_type": "code",
   "execution_count": 1,
   "id": "0159e53e",
   "metadata": {},
   "outputs": [],
   "source": [
    "import pandas as pd\n",
    "import numpy as np\n",
    "from gensim.models import Word2Vec\n",
    "from matplotlib import pyplot as plt\n",
    "from scipy.cluster.hierarchy import dendrogram\n",
    "from sklearn.datasets import load_iris\n",
    "from sklearn.cluster import AgglomerativeClustering\n",
    "from gensim.test.utils import common_texts\n",
    "import warnings\n",
    "warnings.filterwarnings('ignore')"
   ]
  },
  {
   "cell_type": "code",
   "execution_count": 3,
   "id": "3d178062",
   "metadata": {},
   "outputs": [],
   "source": [
    "data = pd.read_feather(f\"../datasets/{data_name}.ftr\")\n",
    "iskor = True"
   ]
  },
  {
   "cell_type": "code",
   "execution_count": 4,
   "id": "9350354d",
   "metadata": {},
   "outputs": [],
   "source": [
    "df = data"
   ]
  },
  {
   "cell_type": "code",
   "execution_count": null,
   "id": "4c6ad97d",
   "metadata": {},
   "outputs": [],
   "source": [
    "if iskor: \n",
    "    train_data =[]\n",
    "    for row in df.okt:\n",
    "        train_data.append(row.tolist())\n",
    "else: \n",
    "    train_data =[]\n",
    "    for row in data.words:\n",
    "        train_data.append(row.tolist())"
   ]
  },
  {
   "cell_type": "code",
   "execution_count": 7,
   "id": "e3ce89b5",
   "metadata": {},
   "outputs": [],
   "source": [
    "model = Word2Vec(sentences=train_data ,min_count=0)"
   ]
  },
  {
   "cell_type": "code",
   "execution_count": 8,
   "id": "28c95c5a",
   "metadata": {},
   "outputs": [],
   "source": [
    "model.save(f'./models/{data_name}/word2vec.model') "
   ]
  },
  {
   "cell_type": "code",
   "execution_count": null,
   "id": "37b84c8c",
   "metadata": {},
   "outputs": [],
   "source": []
  }
 ],
 "metadata": {
  "kernelspec": {
   "display_name": "Python [conda env:reu]",
   "language": "python",
   "name": "conda-env-reu-py"
  },
  "language_info": {
   "codemirror_mode": {
    "name": "ipython",
    "version": 3
   },
   "file_extension": ".py",
   "mimetype": "text/x-python",
   "name": "python",
   "nbconvert_exporter": "python",
   "pygments_lexer": "ipython3",
   "version": "3.8.13"
  }
 },
 "nbformat": 4,
 "nbformat_minor": 5
}
